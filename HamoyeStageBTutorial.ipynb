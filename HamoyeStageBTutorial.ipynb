{
 "cells": [
  {
   "cell_type": "code",
   "execution_count": 12,
   "id": "4163c94c",
   "metadata": {},
   "outputs": [
    {
     "data": {
      "text/plain": [
       "(768, 10)"
      ]
     },
     "execution_count": 12,
     "metadata": {},
     "output_type": "execute_result"
    }
   ],
   "source": [
    "import pandas as pd\n",
    "import seaborn as sns\n",
    "import matplotlib.pyplot as plt\n",
    "import numpy as np\n",
    "df=pd.read_excel('https://archive.ics.uci.edu/ml/machine-learning-databases/00242/ENB2012_data.xlsx')\n",
    "df.shape\n"
   ]
  },
  {
   "cell_type": "code",
   "execution_count": 2,
   "id": "72b570ea",
   "metadata": {},
   "outputs": [
    {
     "data": {
      "text/plain": [
       "<AxesSubplot:xlabel='Relative_Compactness', ylabel='Cooling_Load'>"
      ]
     },
     "execution_count": 2,
     "metadata": {},
     "output_type": "execute_result"
    },
    {
     "data": {
      "image/png": "[encoded data removed]",
      "text/plain": [
       "<Figure size 432x288 with 1 Axes>"
      ]
     },
     "metadata": {
      "needs_background": "light"
     },
     "output_type": "display_data"
    }
   ],
   "source": [
    "column_names = {'X1':'Relative_Compactness', 'X2': 'Surface_Area', 'X3': 'Wall_Area', 'X4': 'Roof_Area', 'X5': 'Overall_Height', 'X6': 'Orientation', 'X7': 'Glazing_Area', 'X8': 'Glazing_Area_Distribution', 'Y1': 'Heating_Load', 'Y2': 'Cooling_Load'}\n",
    "df = df.rename(columns=column_names)\n",
    "simple_linear_reg_df = df[[\"Relative_Compactness\", 'Cooling_Load']].sample(15, random_state=9) #the selection was 15 randomly selected observations.\n",
    "sns.regplot(x=\"Relative_Compactness\", y=\"Cooling_Load\", data=simple_linear_reg_df)  # checking for the relationship btw Relative_Compactness independent and Cooling_Load dependent\n"
   ]
  },
  {
   "cell_type": "code",
   "execution_count": 3,
   "id": "6158c9dc",
   "metadata": {},
   "outputs": [],
   "source": [
    "from sklearn.preprocessing import MinMaxScaler\n",
    "scaler = MinMaxScaler() # define min max scaler do scaling so that one significant number doesn’t impact the model just because of their large magnitude.\n",
    "normalised_df = pd.DataFrame(scaler.fit_transform(df), columns=df.columns) #Apply the scale to training data\n",
    "features_df = normalised_df.drop(columns=['Heating_Load', 'Cooling_Load'])\n",
    "heating_target = normalised_df['Heating_Load']\n"
   ]
  },
  {
   "cell_type": "code",
   "execution_count": 4,
   "id": "f4e09aef",
   "metadata": {},
   "outputs": [],
   "source": [
    "#split  dataset into the training and testing dataset. Recall that we had earlier segmented the features and target variables.\n",
    "from sklearn.model_selection import train_test_split\n",
    "x_train, x_test, y_train, y_test = train_test_split(features_df, heating_target,\n",
    "test_size=0.3, random_state=1)\n"
   ]
  },
  {
   "cell_type": "code",
   "execution_count": 5,
   "id": "df812ec0",
   "metadata": {},
   "outputs": [
    {
     "name": "stdout",
     "output_type": "stream",
     "text": [
      "X_train:       Relative_Compactness  Surface_Area  Wall_Area  Roof_Area  Overall_Height  \\\n",
      "88               0.055556      0.916667   0.571429   1.000000             0.0   \n",
      "467              0.194444      0.750000   0.285714   1.000000             0.0   \n",
      "550              0.388889      0.500000   1.000000   0.111111             1.0   \n",
      "147              1.000000      0.000000   0.285714   0.000000             1.0   \n",
      "481              1.000000      0.000000   0.285714   0.000000             1.0   \n",
      "..                    ...           ...        ...        ...             ...   \n",
      "645              0.388889      0.500000   1.000000   0.111111             1.0   \n",
      "715              0.055556      0.916667   0.571429   1.000000             0.0   \n",
      "72               0.333333      0.583333   0.000000   1.000000             0.0   \n",
      "235              0.055556      0.916667   0.571429   1.000000             0.0   \n",
      "37               0.111111      0.833333   0.428571   1.000000             0.0   \n",
      "\n",
      "     Orientation  Glazing_Area  Glazing_Area_Distribution  \n",
      "88      0.000000         0.250                        0.2  \n",
      "467     1.000000         0.625                        0.8  \n",
      "550     0.666667         1.000                        0.2  \n",
      "147     1.000000         0.250                        0.6  \n",
      "481     0.333333         0.625                        1.0  \n",
      "..           ...           ...                        ...  \n",
      "645     0.333333         1.000                        0.6  \n",
      "715     1.000000         1.000                        0.8  \n",
      "72      0.000000         0.250                        0.2  \n",
      "235     1.000000         0.250                        0.8  \n",
      "37      0.333333         0.000                        0.0  \n",
      "\n",
      "[537 rows x 8 columns]\n",
      "y_train:  88     0.253438\n",
      "467    0.184686\n",
      "550    0.935562\n",
      "147    0.494473\n",
      "481    0.608520\n",
      "         ...   \n",
      "645    0.912106\n",
      "715    0.345915\n",
      "72     0.117282\n",
      "235    0.246697\n",
      "37     0.029388\n",
      "Name: Heating_Load, Length: 537, dtype: float64\n",
      "X_test:       Relative_Compactness  Surface_Area  Wall_Area  Roof_Area  Overall_Height  \\\n",
      "285              0.000000      1.000000   0.714286   1.000000             0.0   \n",
      "101              0.777778      0.166667   0.428571   0.111111             1.0   \n",
      "581              0.777778      0.166667   0.428571   0.111111             1.0   \n",
      "352              0.472222      0.416667   0.571429   0.333333             1.0   \n",
      "726              0.777778      0.166667   0.428571   0.111111             1.0   \n",
      "..                    ...           ...        ...        ...             ...   \n",
      "241              1.000000      0.000000   0.285714   0.000000             1.0   \n",
      "599              0.388889      0.500000   1.000000   0.111111             1.0   \n",
      "650              0.333333      0.583333   0.000000   1.000000             0.0   \n",
      "11               0.666667      0.250000   0.285714   0.333333             1.0   \n",
      "214              0.388889      0.500000   1.000000   0.111111             1.0   \n",
      "\n",
      "     Orientation  Glazing_Area  Glazing_Area_Distribution  \n",
      "285     0.333333         0.250                        1.0  \n",
      "101     0.333333         0.250                        0.4  \n",
      "581     0.333333         1.000                        0.4  \n",
      "352     0.000000         0.625                        0.4  \n",
      "726     0.666667         1.000                        1.0  \n",
      "..           ...           ...                        ...  \n",
      "241     0.333333         0.250                        1.0  \n",
      "599     1.000000         1.000                        0.4  \n",
      "650     0.666667         1.000                        0.6  \n",
      "11      1.000000         0.000                        0.0  \n",
      "214     0.666667         0.250                        0.8  \n",
      "\n",
      "[231 rows x 8 columns]\n",
      "y_test:  285    0.181451\n",
      "101    0.638177\n",
      "581    0.823942\n",
      "352    0.877865\n",
      "726    0.774063\n",
      "         ...   \n",
      "241    0.493934\n",
      "599    0.927743\n",
      "650    0.218118\n",
      "11     0.331626\n",
      "214    0.730116\n",
      "Name: Heating_Load, Length: 231, dtype: float64\n"
     ]
    }
   ],
   "source": [
    "print (\"X_train: \", x_train)\n",
    "print (\"y_train: \", y_train)\n",
    "print(\"X_test: \", x_test)\n",
    "print (\"y_test: \", y_test)"
   ]
  },
  {
   "cell_type": "code",
   "execution_count": 9,
   "id": "be891b71",
   "metadata": {},
   "outputs": [
    {
     "name": "stdout",
     "output_type": "stream",
     "text": [
      "MAE =  0.063\n"
     ]
    }
   ],
   "source": [
    "from sklearn.linear_model import LinearRegression\n",
    "linear_model = LinearRegression()\n",
    "#fit a model here Linear model to the training dataset\n",
    "linear_model.fit(x_train, y_train) # use the fit() func\n",
    "\n",
    "predicted_values = linear_model.predict(x_test) # what the model predicted \n",
    "# Evaluating the predictions\n",
    "from sklearn.metrics import mean_absolute_error\n",
    "mae = mean_absolute_error(y_test, predicted_values)\n",
    "_mae=round(mae, 3) #prints 0.063\n",
    "print (\"MAE = \", _mae)"
   ]
  },
  {
   "cell_type": "code",
   "execution_count": 13,
   "id": "02e81c46",
   "metadata": {},
   "outputs": [
    {
     "name": "stdout",
     "output_type": "stream",
     "text": [
      "RMSE =  0.089\n"
     ]
    }
   ],
   "source": [
    "from sklearn.metrics import mean_squared_error\n",
    "rmse = np.sqrt(mean_squared_error(y_test, predicted_values))\n",
    "_rmse=round(rmse, 3) #prints 0.089\n",
    "print (\"RMSE = \", _rmse)"
   ]
  },
  {
   "cell_type": "code",
   "execution_count": 14,
   "id": "9983a710",
   "metadata": {},
   "outputs": [
    {
     "name": "stdout",
     "output_type": "stream",
     "text": [
      "R2 =  0.894\n"
     ]
    }
   ],
   "source": [
    "from sklearn.metrics import r2_score\n",
    "r2_score = r2_score(y_test, predicted_values)\n",
    "_r2=round(r2_score, 3) #prints 0.893\n",
    "print (\"R2 = \", _r2)"
   ]
  },
  {
   "cell_type": "code",
   "execution_count": 15,
   "id": "407d041d",
   "metadata": {},
   "outputs": [
    {
     "data": {
      "text/plain": [
       "Ridge(alpha=0.5)"
      ]
     },
     "execution_count": 15,
     "metadata": {},
     "output_type": "execute_result"
    }
   ],
   "source": [
    "from sklearn.linear_model import Ridge\n",
    "ridge_reg = Ridge(alpha=0.5)\n",
    "ridge_reg.fit(x_train, y_train)"
   ]
  },
  {
   "cell_type": "code",
   "execution_count": 16,
   "id": "f60225bc",
   "metadata": {},
   "outputs": [
    {
     "data": {
      "text/plain": [
       "Lasso(alpha=0.001)"
      ]
     },
     "execution_count": 16,
     "metadata": {},
     "output_type": "execute_result"
    }
   ],
   "source": [
    "from sklearn.linear_model import Lasso\n",
    "lasso_reg = Lasso(alpha=0.001)\n",
    "lasso_reg.fit(x_train, y_train)"
   ]
  },
  {
   "cell_type": "code",
   "execution_count": 27,
   "id": "aa888783",
   "metadata": {},
   "outputs": [],
   "source": [
    "#comparing the effects of regularisation\n",
    "def get_weights_df(model, feat, col_name):\n",
    "    #this function returns the weight of every feature\n",
    "    weights = pd.Series(model.coef_, feat.columns).sort_values()\n",
    "    weights_df = pd.DataFrame(weights).reset_index()\n",
    "    weights_df.columns = ['Features', col_name]\n",
    "    weights_df[col_name].round(3)\n",
    "    return weights_df\n",
    "linear_model_weights = get_weights_df(linear_model, x_train, 'Linear_Model_Weight')\n",
    "ridge_weights_df = get_weights_df(ridge_reg, x_train, 'Ridge_Weight')\n",
    "lasso_weights_df = get_weights_df(lasso_reg, x_train, 'Lasso_weight')\n",
    "final_weights = pd.merge(linear_model_weights, ridge_weights_df, on='Features')\n",
    "final_weights = pd.merge(final_weights, lasso_weights_df, on='Features')\n",
    "\n"
   ]
  },
  {
   "cell_type": "code",
   "execution_count": null,
   "id": "d397bf53",
   "metadata": {},
   "outputs": [],
   "source": []
  }
 ],
 "metadata": {
  "kernelspec": {
   "display_name": "Python 3 (ipykernel)",
   "language": "python",
   "name": "python3"
  },
  "language_info": {
   "codemirror_mode": {
    "name": "ipython",
    "version": 3
   },
   "file_extension": ".py",
   "mimetype": "text/x-python",
   "name": "python",
   "nbconvert_exporter": "python",
   "pygments_lexer": "ipython3",
   "version": "3.9.7"
  }
 },
 "nbformat": 4,
 "nbformat_minor": 5
}
